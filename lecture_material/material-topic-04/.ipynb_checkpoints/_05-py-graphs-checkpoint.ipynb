{
 "cells": [
  {
   "cell_type": "markdown",
   "metadata": {},
   "source": [
    "\n",
    "# <center>Python - Graphs<a class=\"tocSkip\"></center>\n",
    "# <center>QTM 350: Data Science Computing <a class=\"tocSkip\"></center>    \n",
    "# <center>Davi Moreira <a class=\"tocSkip\"></center>"
   ]
  },
  {
   "cell_type": "markdown",
   "metadata": {},
   "source": [
    "## Introduction <a class=\"tocSkip\">\n",
    "<hr>\n",
    "\n",
    "\n",
    "This topic material is based on [Professor Mike Gelbart Algorithms and Data Structures course](https://github.com/UBC-MDS/DSCI_512_alg-data-struct). It was adapted for our purposes."
   ]
  },
  {
   "cell_type": "code",
   "execution_count": null,
   "metadata": {},
   "outputs": [],
   "source": [
    "import numpy as np\n",
    "import networkx as nx \n",
    "from collections import Counter"
   ]
  },
  {
   "cell_type": "code",
   "execution_count": null,
   "metadata": {},
   "outputs": [],
   "source": [
    "# The defaults are hard to see on a projector in class\n",
    "draw_params = {\"node_color\" : \"pink\", \"font_size\" : 20, \"with_labels\" : True, \"arrowsize\" : 30}"
   ]
  },
  {
   "cell_type": "markdown",
   "metadata": {},
   "source": [
    "Outline:\n",
    "\n",
    "- Graphs intro \n",
    "- Graph types \n",
    "- Graph searches: recursive implementation \n",
    "- Stacks and queues \n",
    "- Graph searches: iterative implementation \n",
    "- Activities (time-permitting)"
   ]
  },
  {
   "cell_type": "markdown",
   "metadata": {},
   "source": [
    "## Learning objectives\n",
    "\n",
    "- Map real-world problems to various kinds of graphs (directed/undirected, weighted/unweighted).\n",
    "- Perform breadth-first and depth-first searches in graphs.\n",
    "- Compare/contrast BFS and DFS.\n",
    "- Use Stack and Queue data structures in implementing DFS and BFS.\n",
    "- Find the running times of graph algorithms as a function of the number of vertices and edges in a graph."
   ]
  },
  {
   "cell_type": "markdown",
   "metadata": {},
   "source": [
    "## Graphs intro\n",
    "\n",
    "Trees allowed us to represent hierarchical relationships. However, many relationships are not hierarchical:\n",
    "\n",
    "- friendships (on Facebook, Twitter, or in real life)\n",
    "- connections between machines on the internet\n",
    "- direct flight connections between airports\n",
    "- etc."
   ]
  },
  {
   "cell_type": "markdown",
   "metadata": {},
   "source": [
    "A graph consists of: \n",
    "\n",
    "- A set of _vertices_ or _nodes_\n",
    "- A set of pairs of vertices, called _edges_"
   ]
  },
  {
   "cell_type": "code",
   "execution_count": null,
   "metadata": {},
   "outputs": [],
   "source": [
    "G = nx.Graph()\n",
    "\n",
    "G.add_node(\"A\")\n",
    "G.add_node(\"B\")\n",
    "G.add_node(\"C\")\n",
    "G.add_node(\"D\")\n",
    "G.add_node(\"E\")\n",
    "\n",
    "G.add_edge(\"A\", \"B\")\n",
    "G.add_edge(\"B\", \"C\")\n",
    "G.add_edge(\"C\", \"D\")\n",
    "G.add_edge(\"D\", \"E\")\n",
    "G.add_edge(\"E\", \"A\")\n",
    "G.add_edge(\"A\", \"C\")\n",
    "G.add_edge(\"B\", \"D\")\n",
    "G.add_edge(\"C\", \"E\")"
   ]
  },
  {
   "cell_type": "markdown",
   "metadata": {},
   "source": [
    "- The graph package we're using, `networkx`, randomly visalizes the graph each time.\n",
    "    - By re-running the next cell, we can see a few equivalent representations.\n",
    "    - They are all the same graph!\n",
    "    - See [`networkx.draw` documentation](https://networkx.github.io/documentation/stable/reference/generated/networkx.drawing.nx_pylab.draw_networkx.html).\n",
    "    - Note: if you are interested, there's an Altair interface to `networkx`: [nx_altair](https://github.com/Zsailer/nx_altair)."
   ]
  },
  {
   "cell_type": "code",
   "execution_count": null,
   "metadata": {},
   "outputs": [],
   "source": [
    "nx.draw(G, **draw_params, arrows=True)"
   ]
  },
  {
   "cell_type": "markdown",
   "metadata": {},
   "source": [
    "Note: we can set the random seed if we want a fixed drawing:"
   ]
  },
  {
   "cell_type": "code",
   "execution_count": null,
   "metadata": {},
   "outputs": [],
   "source": [
    "nx.draw(G, **draw_params, pos=nx.spring_layout(G, seed=5))"
   ]
  },
  {
   "cell_type": "markdown",
   "metadata": {},
   "source": [
    "Some graph terminology:\n",
    "\n",
    "- The _degree_ of a vertex is the number of edges connected to it.\n",
    "  - Above, \"B\" has degree 3 and \"C\" has degree 4.\n",
    "- A graph is _complete_ if every pair of vertices is joined by an edge.\n",
    "  - The graph above is not complete because \"B\" and \"E\" are not directly connected (same with \"A\" and \"D\")."
   ]
  },
  {
   "cell_type": "markdown",
   "metadata": {},
   "source": [
    "We can make it complete as follows:"
   ]
  },
  {
   "cell_type": "code",
   "execution_count": null,
   "metadata": {},
   "outputs": [],
   "source": [
    "G.add_edge(\"A\", \"D\")\n",
    "G.add_edge(\"B\", \"E\")"
   ]
  },
  {
   "cell_type": "code",
   "execution_count": null,
   "metadata": {},
   "outputs": [],
   "source": [
    "nx.draw(G, **draw_params, pos=nx.spring_layout(G, seed=5))"
   ]
  },
  {
   "cell_type": "markdown",
   "metadata": {},
   "source": [
    "Below is another example of a complete graph, this time with 4 vertices."
   ]
  },
  {
   "cell_type": "code",
   "execution_count": null,
   "metadata": {},
   "outputs": [],
   "source": [
    "complete = nx.complete_graph(4)\n",
    "\n",
    "nx.draw(complete, **draw_params)"
   ]
  },
  {
   "cell_type": "markdown",
   "metadata": {},
   "source": [
    "More terminology:\n",
    "\n",
    "- A graph is _connected_ if there is exists a path between any pair of nodes.\n",
    "  - Below is an example disconnected graph. "
   ]
  },
  {
   "cell_type": "code",
   "execution_count": null,
   "metadata": {},
   "outputs": [],
   "source": [
    "disconnected = nx.Graph()\n",
    "\n",
    "disconnected.add_node(\"A\")\n",
    "disconnected.add_node(\"B\")\n",
    "disconnected.add_node(\"C\")\n",
    "disconnected.add_node(\"D\")\n",
    "disconnected.add_node(\"E\")\n",
    "disconnected.add_node(\"F\")\n",
    "\n",
    "disconnected.add_edge(\"A\", \"B\")\n",
    "disconnected.add_edge(\"A\", \"C\")\n",
    "disconnected.add_edge(\"D\", \"C\")\n",
    "disconnected.add_edge(\"B\", \"C\")\n",
    "\n",
    "disconnected.add_edge(\"E\", \"F\")\n",
    "\n",
    "nx.draw(disconnected, **draw_params)"
   ]
  },
  {
   "cell_type": "markdown",
   "metadata": {},
   "source": [
    "## Graph types"
   ]
  },
  {
   "cell_type": "markdown",
   "metadata": {},
   "source": [
    "#### Undirected graphs\n",
    "\n",
    "- This is what we've been looking at so far.\n",
    "- Saying \"there is an edge from A to B\" is the same as saying \"there is an edge from B to A\"\n",
    "- You can try this out in `networkx`."
   ]
  },
  {
   "cell_type": "markdown",
   "metadata": {},
   "source": [
    "### Directed graphs\n",
    "\n",
    "- Sometimes, relationships are directed (e.g. Twitter).\n",
    "- This gives us a directed graph. We typically draw the direction with an arrow.\n",
    "- Example:\n"
   ]
  },
  {
   "cell_type": "code",
   "execution_count": null,
   "metadata": {},
   "outputs": [],
   "source": [
    "G = nx.DiGraph()\n",
    "\n",
    "G.add_node(\"A\")\n",
    "G.add_node(\"B\")\n",
    "G.add_node(\"C\")\n",
    "\n",
    "G.add_edge(\"B\", \"C\")\n",
    "G.add_edge(\"A\", \"C\")"
   ]
  },
  {
   "cell_type": "code",
   "execution_count": null,
   "metadata": {},
   "outputs": [],
   "source": [
    "nx.draw(G, **draw_params)"
   ]
  },
  {
   "cell_type": "markdown",
   "metadata": {},
   "source": [
    "Now let's reverse the direction of the edge from \"B\" to \"C\":"
   ]
  },
  {
   "cell_type": "code",
   "execution_count": null,
   "metadata": {},
   "outputs": [],
   "source": [
    "G = nx.DiGraph()\n",
    "\n",
    "G.add_node(\"A\")\n",
    "G.add_node(\"B\")\n",
    "G.add_node(\"C\")\n",
    "\n",
    "G.add_edge(\"B\", \"C\")\n",
    "G.add_edge(\"C\", \"A\")\n",
    "\n",
    "nx.draw(G, **draw_params)"
   ]
  },
  {
   "cell_type": "markdown",
   "metadata": {},
   "source": [
    "- This is a fundamentally different graph. \n",
    "- The choice of graph type depends on the situation you're modelling. \n",
    "  - The MDS prerequisite graph is directed.\n",
    "\n",
    "![](mds.png)\n",
    "\n",
    "- Note that this is a directed graph, NOT a tree, because nodes can have multiple parents."
   ]
  },
  {
   "cell_type": "markdown",
   "metadata": {},
   "source": [
    "- Directed graphs can also have reciprocal connections:"
   ]
  },
  {
   "cell_type": "code",
   "execution_count": null,
   "metadata": {},
   "outputs": [],
   "source": [
    "G = nx.DiGraph()\n",
    "\n",
    "G.add_node(\"A\")\n",
    "G.add_node(\"B\")\n",
    "G.add_node(\"C\")\n",
    "\n",
    "G.add_edge(\"B\", \"C\")\n",
    "\n",
    "# add a 2-way edge\n",
    "G.add_edge(\"C\", \"A\")\n",
    "G.add_edge(\"A\", \"C\")\n",
    "\n",
    "nx.draw(G, **draw_params)"
   ]
  },
  {
   "cell_type": "markdown",
   "metadata": {},
   "source": [
    "- Here, we have a double-headed arrow between A and C. \n",
    "- In an undirected graph, it wouldn't have made sense to have both \n",
    "\n",
    "```python\n",
    "G.add_edge(\"C\", \"A\")\n",
    "G.add_edge(\"A\", \"C\")\n",
    "```\n",
    "\n",
    "because one would be sufficient."
   ]
  },
  {
   "cell_type": "markdown",
   "metadata": {},
   "source": [
    "- Directed graphs also can have self-connections.\n",
    "  - `networkx` supports them but it doesn't draw them properly.\n"
   ]
  },
  {
   "cell_type": "markdown",
   "metadata": {},
   "source": [
    "### Unweighted graphs\n",
    "\n",
    "All the graphs above are \"unweighted\" because all edges are equal."
   ]
  },
  {
   "cell_type": "markdown",
   "metadata": {},
   "source": [
    "### Weighted graphs\n",
    "\n",
    "Both undirected and directed graphs can have weighted edges."
   ]
  },
  {
   "cell_type": "code",
   "execution_count": null,
   "metadata": {},
   "outputs": [],
   "source": [
    "G = nx.Graph()\n",
    "\n",
    "G.add_node(\"A\")\n",
    "G.add_node(\"B\")\n",
    "G.add_node(\"C\")\n",
    "\n",
    "G.add_edge(\"A\", \"B\", weight=2.0)\n",
    "G.add_edge(\"B\", \"C\", weight=5.0)\n",
    "G.add_edge(\"C\", \"A\", weight=2.5)\n",
    "\n",
    "pos = nx.spring_layout(G)\n",
    "nx.draw(G, pos, **draw_params)\n",
    "labels = nx.get_edge_attributes(G, 'weight')\n",
    "nx.draw_networkx_edge_labels(G, pos, edge_labels=labels, font_size=20);"
   ]
  },
  {
   "cell_type": "markdown",
   "metadata": {},
   "source": [
    "Above: undirected, weighted graph.\n",
    "\n",
    "Below: directed, weighted graph."
   ]
  },
  {
   "cell_type": "code",
   "execution_count": null,
   "metadata": {},
   "outputs": [],
   "source": [
    "G = nx.DiGraph()\n",
    "\n",
    "G.add_node(\"A\")\n",
    "G.add_node(\"B\")\n",
    "G.add_node(\"C\")\n",
    "\n",
    "G.add_edge(\"A\", \"B\", weight=2.0)\n",
    "G.add_edge(\"B\", \"C\", weight=5.0)\n",
    "G.add_edge(\"C\", \"A\", weight=2.5)\n",
    "\n",
    "pos = nx.spring_layout(G)\n",
    "nx.draw(G, pos, **draw_params)\n",
    "labels = nx.get_edge_attributes(G, 'weight')\n",
    "nx.draw_networkx_edge_labels(G, pos, edge_labels=labels, font_size=20);"
   ]
  },
  {
   "cell_type": "markdown",
   "metadata": {},
   "source": [
    "Examples where graphs can be used to model a situation:\n",
    "\n",
    "- Flights between airports: weights can be cost or flight time between destinations.\n",
    "  - Now we definitely want a directed graph, as the cost/time may depend on the direction.\n",
    "  - Useful problem: minimum cost path from $A$ to $B$. This is called the [shortest path problem](https://en.wikipedia.org/wiki/Shortest_path_problem).\n",
    "- Countries.\n",
    "  - Edge weights could be number of dual citizens (undirected).\n",
    "  - Or trade/immigration in each direction (directed).\n",
    "  - The weights could be the trade volume."
   ]
  },
  {
   "cell_type": "markdown",
   "metadata": {},
   "source": [
    "## Graph searches: recursive implementation "
   ]
  },
  {
   "cell_type": "markdown",
   "metadata": {},
   "source": [
    "Next, we'll discuss some algorithms performed on graphs."
   ]
  },
  {
   "cell_type": "code",
   "execution_count": null,
   "metadata": {},
   "outputs": [],
   "source": [
    "# pappus = nx.pappus_graph()\n",
    "# nx.draw(pappus, with_labels=True, arrowsize=40)\n",
    "\n",
    "# erg = nx.erdos_renyi_graph(15, 0.2, seed=40)\n",
    "# nx.draw(erg, **draw_params, pos=nx.spring_layout(erg, seed=5))\n",
    "\n",
    "nx.draw(disconnected, **draw_params)"
   ]
  },
  {
   "cell_type": "markdown",
   "metadata": {},
   "source": [
    "- Question: are nodes $A$ and $E$ connected?\n",
    "  - We can see this easily with our eyes.\n",
    "  - But imagine a dataset with millions of nodes and billions of edges, like a Facebook social network (see lab).\n",
    "  - We can't \"eyeball\" if two people are connected; we need an algorithm.\n",
    "- Approach: visit all neighbours of node $0$, then all neighbours of these neighbours, etc.\n",
    "  - Keep track of which nodes have already been visited so we don't get stuck in an infinite cycle."
   ]
  },
  {
   "cell_type": "code",
   "execution_count": null,
   "metadata": {},
   "outputs": [],
   "source": [
    "def connected(g, node1, node2, visited=None, verbose=False):\n",
    "    \"\"\" \n",
    "    Check whether node1 and node2 are connected in the graph g (using DFS).\n",
    "\n",
    "    Parameters\n",
    "    ----------\n",
    "    g : networkx.classes.graph.Graph\n",
    "        the graph\n",
    "    node1 : str, int\n",
    "        first node\n",
    "    node2 : str, int\n",
    "        second node\n",
    "    visited : set\n",
    "        contains visited nodes (default is None)\n",
    "    verbose : bool\n",
    "        if True, node location will be displayed (default is False)\n",
    "    \n",
    "    Returns\n",
    "    -------\n",
    "    bool \n",
    "        True if the two nodes are connected and False otherwise     \n",
    "\n",
    "    Example\n",
    "    --------\n",
    "    >>> graph = nx.erdos_renyi_graph(2, 1)\n",
    "    >>> connected(graph, 1, 0)\n",
    "    True\n",
    "    \"\"\"\n",
    "    if visited is None:\n",
    "        visited = {node1}  # initialize\n",
    "\n",
    "    if node1 == node2:\n",
    "        return True\n",
    "\n",
    "    # for all the unvisited neighbours of node1\n",
    "    for v in g.neighbors(node1):\n",
    "        if v in visited:\n",
    "            continue\n",
    "            \n",
    "        visited.add(v)\n",
    "\n",
    "        if verbose:\n",
    "            print(\"At node\", v)\n",
    "\n",
    "        # If a connection found, passes the True value all the way up to the top level.\n",
    "        if connected(g, v, node2, visited, verbose):\n",
    "            return True\n",
    "    \n",
    "    if verbose:\n",
    "        print(\"hello this is\", node1, \"speaking. couldn't get there, sorry :(\")\n",
    "    return False"
   ]
  },
  {
   "cell_type": "markdown",
   "metadata": {
    "jupyter": {
     "source_hidden": true
    }
   },
   "source": [
    "Let's discuss how the code works:\n",
    "\n",
    "- We keep track of all nodes that we've visited, so that we don't visit them again.\n",
    "- Base case: if the start node equals the end node, return True.\n",
    "- For all *unvisited* the neighbours of the start node:\n",
    "  - Add to visited set\n",
    "  - Recursively check if these nodes are connected to the start node\n",
    "- If you finish the loop and don't find anything, return False."
   ]
  },
  {
   "cell_type": "markdown",
   "metadata": {},
   "source": [
    "Detailed explanation:\n",
    "    \n",
    "The function `connected` determines if two nodes, `node1` and `node2`, are connected in a graph `g`. The function employs a `Depth-First Search (DFS)` approach to traverse the graph, which is a common technique for exploring the entirety of a graph or searching for specific elements within it. \n",
    "\n",
    "- **The function `connected` takes five parameters:**\n",
    "\n",
    "  - `g`: The graph in which to check connectivity, assumed to be an instance of a `networkx` graph.\n",
    "  - `node1` and `node2`: The nodes between which connectivity is to be checked. These can be any hashable types typically used as graph nodes (like strings or integers).\n",
    "  - `visited`: A set that tracks the nodes that have been visited during the DFS. It defaults to `None` if not provided.\n",
    "  - `verbose`: A boolean flag that, when set to `True`, enables the printing of debug statements about the function's progress.\n",
    "\n",
    "- **Initialization of `visited` Set**: This part of the code initializes the `visited` set with `node1` if no `visited` set has been passed to the function. This is crucial to prevent the function from revisiting the same nodes, which can lead to infinite recursion or redundant operations.\n",
    "\n",
    "- **Base Case for Recursion**: If `node1` is the same as `node2`, the function returns `True` immediately, indicating that a node is trivially connected to itself.\n",
    "\n",
    "- **DFS Traversal**: This loop iterates through each neighbor `v` of `node1`. If `v` has already been visited, it skips to the next neighbor. Otherwise, it adds `v` to the `visited` set and, if `verbose` is `True`, prints the current node. It then makes a recursive call to `connected` to check if there is a path from `v` to `node2`. If such a path exists (`connected(g, v, node2, visited, verbose)` returns `True`), the function immediately returns `True`, signaling that `node1` and `node2` are connected.\n",
    "\n",
    "- **Verbose Output for Unsuccessful Search**: If no connection is found after exploring all neighbors, and if `verbose` is `True`, the function prints a message indicating that it could not find a path from `node1` to `node2`.\n",
    "\n",
    "- **Return Value**: If the function exits the loop without having returned `True`, it returns `False`, indicating that no path exists between `node1` and `node2`.\n",
    "\n",
    "This method of traversal ensures that the function thoroughly explores all possible paths between `node1` and `node2` in the graph. The `visited` set is crucial to avoid cycles and redundant checks, making the function efficient in terms of avoiding unnecessary work. The optional `verbose` parameter allows for detailed debugging."
   ]
  },
  {
   "cell_type": "code",
   "execution_count": null,
   "metadata": {},
   "outputs": [],
   "source": [
    "nx.draw(disconnected, **draw_params)"
   ]
  },
  {
   "cell_type": "code",
   "execution_count": null,
   "metadata": {},
   "outputs": [],
   "source": [
    "connected(disconnected, \"A\", \"B\")"
   ]
  },
  {
   "cell_type": "code",
   "execution_count": null,
   "metadata": {},
   "outputs": [],
   "source": [
    "connected(disconnected, \"A\", \"E\")"
   ]
  },
  {
   "cell_type": "code",
   "execution_count": null,
   "metadata": {},
   "outputs": [],
   "source": [
    "assert connected(disconnected, \"A\", \"B\")\n",
    "assert connected(disconnected, \"A\", \"C\")\n",
    "assert connected(disconnected, \"A\", \"D\")\n",
    "assert connected(disconnected, \"B\", \"C\")\n",
    "assert connected(disconnected, \"B\", \"D\")\n",
    "assert connected(disconnected, \"E\", \"F\")\n",
    "assert not connected(disconnected, \"A\", \"E\")\n",
    "assert not connected(disconnected, \"A\", \"F\")\n",
    "assert not connected(disconnected, \"D\", \"E\")\n",
    "assert not connected(disconnected, \"D\", \"F\")\n",
    "assert not connected(disconnected, \"C\", \"E\")"
   ]
  },
  {
   "cell_type": "markdown",
   "metadata": {},
   "source": [
    "- Question: in what order were the nodes traversed?"
   ]
  },
  {
   "cell_type": "code",
   "execution_count": null,
   "metadata": {},
   "outputs": [],
   "source": [
    "erg = nx.erdos_renyi_graph(15, 0.2, seed=40)\n",
    "nx.draw(erg, **draw_params, pos=nx.spring_layout(erg, seed=5))"
   ]
  },
  {
   "cell_type": "code",
   "execution_count": null,
   "metadata": {},
   "outputs": [],
   "source": [
    "connected(erg, 14, 0, verbose=True)"
   ]
  },
  {
   "cell_type": "markdown",
   "metadata": {},
   "source": [
    "- Note the order: \n",
    "  - It's taking 0's first neighbour, which is 3\n",
    "  - Then 3's first neighbour, which is 5\n",
    "  - Then 5's first neighbour, which is 1\n",
    "  - This is called [depth first search](https://en.wikipedia.org/wiki/Depth-first_search) (DFS) because we go deep into the graph\n"
   ]
  },
  {
   "cell_type": "markdown",
   "metadata": {},
   "source": [
    "- What if this was a huge graph, and the two nodes were right next to each other?\n",
    "  - The algorithm might be extremely inefficient."
   ]
  },
  {
   "cell_type": "markdown",
   "metadata": {},
   "source": [
    "## Stacks and queues\n",
    "\n",
    "- Let's briefly discuss some new data structures.\n",
    "- We want a data structure that we can put things into, and then retrieve them later.\n",
    "- A [stack](https://en.wikipedia.org/wiki/Stack_(abstract_data_type)) does with with the \"last in, first out\" (LIFO) mentality - like a stack of books or plates."
   ]
  },
  {
   "cell_type": "code",
   "execution_count": null,
   "metadata": {},
   "outputs": [],
   "source": [
    "class Stack:\n",
    "    \"\"\"A stack data structure.\"\"\"\n",
    "\n",
    "    def __init__(self):\n",
    "        self.data = list()\n",
    "\n",
    "    def push(self, item):\n",
    "        \"\"\"\n",
    "        Adds a new item to the top of the stack.\n",
    "        \n",
    "        Parameters\n",
    "        ----------\n",
    "        item : object\n",
    "           An item added to the stack\n",
    "        \"\"\"\n",
    "        self.data.append(item)\n",
    "\n",
    "    def pop(self):\n",
    "        \"\"\"\n",
    "        Removes the item that is at the top of the stack and returns the item.\n",
    "\n",
    "        Returns\n",
    "        -------\n",
    "        object \n",
    "             The item that was last added to the stack.\n",
    "\n",
    "        Examples\n",
    "        --------\n",
    "        >>> stack = Stack()\n",
    "        >>> stack.push(1)\n",
    "        >>> stack.push([1, 2, \"dog\"])\n",
    "        >>> stack.push(\"popcorn\")\n",
    "        >>> stack.pop()\n",
    "        'popcorn'\n",
    "        \"\"\"\n",
    "        return self.data.pop()\n",
    "\n",
    "    def isEmpty(self):\n",
    "        \"\"\" \n",
    "        Checks to see if the stack is empty.\n",
    "\n",
    "        Returns\n",
    "        -------\n",
    "        bool \n",
    "             True if the stack contains no items, False otherwise.    \n",
    "\n",
    "        Example\n",
    "        --------\n",
    "        >>> stack = Stack()\n",
    "        >>> stack.isEmpty()\n",
    "        True\n",
    "        \"\"\"\n",
    "        return len(self.data) == 0\n",
    "    \n",
    "    def __str__(self):\n",
    "        return self.data.__str__()"
   ]
  },
  {
   "cell_type": "markdown",
   "metadata": {},
   "source": [
    "Here's a detailed explanation of the class `Stack` and its methods:\n",
    "\n",
    "- **Constructor:** The `__init__` method is the constructor for the `Stack` class. It initializes a new instance of the class with an attribute `data`, which is an empty list that will hold the stack's elements.\n",
    "\n",
    "- **Push Method:** The `push` method takes an argument `item` and appends it to `self.data`, effectively pushing it onto the top of the stack.\n",
    "\n",
    "- **Pop Method:** The `pop` method removes the last item from `self.data` and returns it. If `pop` is called on an empty stack, it would raise an `IndexError`, unless handled otherwise.\n",
    "\n",
    "- **isEmpty Method:** The `isEmpty` method returns `True` if the stack is empty (i.e., if `self.data` has a length of zero) and `False` otherwise.\n",
    "\n",
    "- **String Representation Method:** The `__str__` method provides a human-readable string representation of the stack. When an instance of `Stack` is passed to the `print()` function, the elements of the stack will be printed in the list format.\n"
   ]
  },
  {
   "cell_type": "code",
   "execution_count": null,
   "metadata": {},
   "outputs": [],
   "source": [
    "s = Stack()\n",
    "\n",
    "s.push(\"first\")\n",
    "s.push(\"second\")\n",
    "\n",
    "print(s)"
   ]
  },
  {
   "cell_type": "code",
   "execution_count": null,
   "metadata": {},
   "outputs": [],
   "source": [
    "s.pop()"
   ]
  },
  {
   "cell_type": "code",
   "execution_count": null,
   "metadata": {},
   "outputs": [],
   "source": [
    "print(s)"
   ]
  },
  {
   "cell_type": "code",
   "execution_count": null,
   "metadata": {},
   "outputs": [],
   "source": [
    "s.push(\"third\")\n",
    "s.push(\"fourth\")"
   ]
  },
  {
   "cell_type": "code",
   "execution_count": null,
   "metadata": {},
   "outputs": [],
   "source": [
    "print(s)"
   ]
  },
  {
   "cell_type": "code",
   "execution_count": null,
   "metadata": {},
   "outputs": [],
   "source": [
    "s.pop()"
   ]
  },
  {
   "cell_type": "code",
   "execution_count": null,
   "metadata": {},
   "outputs": [],
   "source": [
    "s.pop()"
   ]
  },
  {
   "cell_type": "code",
   "execution_count": null,
   "metadata": {},
   "outputs": [],
   "source": [
    "s.pop()"
   ]
  },
  {
   "cell_type": "code",
   "execution_count": null,
   "metadata": {},
   "outputs": [],
   "source": [
    "s.pop()"
   ]
  },
  {
   "cell_type": "markdown",
   "metadata": {},
   "source": [
    "- Along with stacks we also have [queues](https://en.wikipedia.org/wiki/Queue_(abstract_data_type)), which use \"first in, first out\" (FIFO) ordering.\n",
    "  - e.g. an actual queue/lineup"
   ]
  },
  {
   "cell_type": "code",
   "execution_count": null,
   "metadata": {},
   "outputs": [],
   "source": [
    "class Queue:\n",
    "    \"\"\"A Queue data structure.\"\"\"\n",
    "    \n",
    "    def __init__(self):\n",
    "        self.data = list()\n",
    "\n",
    "    def push(self, item):\n",
    "        \"\"\"\n",
    "        Adds a new item to the end of the queue.\n",
    "        \n",
    "        Parameters\n",
    "        ----------\n",
    "        item : object\n",
    "           An item added to the queue\n",
    "        \"\"\"\n",
    "        \n",
    "        self.data.append(item)\n",
    "\n",
    "    def pop(self):\n",
    "        \"\"\"\n",
    "        Removes the item that is at the front of the queue and returns the item.\n",
    "\n",
    "        Returns\n",
    "        -------\n",
    "        object \n",
    "             The least recent item added to the queue.     \n",
    "\n",
    "        Example\n",
    "        --------\n",
    "        >>> queue = Queue()\n",
    "        >>> queue.push(1)\n",
    "        >>> queue.push([1, 2, \"dog\"])\n",
    "        >>> queue.push(\"popcorn\")\n",
    "        >>> queue.pop()\n",
    "        '1'\n",
    "        \"\"\"\n",
    "        return self.data.pop(0)\n",
    "\n",
    "    def isEmpty(self):\n",
    "        \"\"\" \n",
    "        Checks to see if the queue is empty. \n",
    "\n",
    "        Returns\n",
    "        -------\n",
    "        bool \n",
    "            True if the stack contains no items, False otherwise.    \n",
    "\n",
    "        Example\n",
    "        --------\n",
    "        >>> queue = Queue()\n",
    "        >>> queue.push(1)\n",
    "        >>> Queue.isEmpty()\n",
    "        False\n",
    "        \n",
    "        \"\"\"\n",
    "        return len(self.data) == 0\n",
    "    \n",
    "    def __str__(self):\n",
    "        return self.data.__str__()"
   ]
  },
  {
   "cell_type": "markdown",
   "metadata": {},
   "source": [
    "The class `Queue` represents a queue data structure that operates on the First In, First Out (FIFO) principle. Here's a breakdown of its components:\n",
    "\n",
    "- **Constructor:** The `__init__` method is the constructor for the `Queue` class. It initializes a new instance with an attribute `data`, which is a Python list that will be used to store the elements of the queue.\n",
    "\n",
    "- **Push Method:** The `push` method adds an `item` to the end of the queue, which is represented as appending the item to the end of the `self.data` list.\n",
    "\n",
    "- **Pop Method:** The `pop` method removes and returns the item at the front of the queue, which corresponds to the first item in the list `self.data`. By using `pop(0)`, it ensures that the queue operates on FIFO principle. If `pop` is called on an empty queue, it would raise an `IndexError`.\n",
    "\n",
    "- **isEmpty Method:** The `isEmpty` method returns `True` if the queue is empty (i.e., `self.data` is an empty list) and `False` otherwise.\n",
    "\n",
    "- **String Representation Method:**\n",
    "\n",
    "The `__str__` method provides a string representation of the queue for readability. When the `print()` function is used on an instance of `Queue`, it will display the elements of the queue in list format.\n"
   ]
  },
  {
   "cell_type": "code",
   "execution_count": null,
   "metadata": {},
   "outputs": [],
   "source": [
    "q = Queue()\n",
    "\n",
    "q.push(\"first\")  # often called \"enqueue\"\n",
    "q.push(\"second\")\n",
    "\n",
    "print(q)"
   ]
  },
  {
   "cell_type": "code",
   "execution_count": null,
   "metadata": {},
   "outputs": [],
   "source": [
    "q.pop() # often called \"dequeue\""
   ]
  },
  {
   "cell_type": "code",
   "execution_count": null,
   "metadata": {},
   "outputs": [],
   "source": [
    "print(q)"
   ]
  },
  {
   "cell_type": "code",
   "execution_count": null,
   "metadata": {},
   "outputs": [],
   "source": [
    "q.push(\"third\")\n",
    "q.push(\"fourth\")"
   ]
  },
  {
   "cell_type": "code",
   "execution_count": null,
   "metadata": {},
   "outputs": [],
   "source": [
    "print(q)"
   ]
  },
  {
   "cell_type": "code",
   "execution_count": null,
   "metadata": {},
   "outputs": [],
   "source": [
    "while not q.isEmpty():\n",
    "    print(q.pop())"
   ]
  },
  {
   "cell_type": "markdown",
   "metadata": {},
   "source": [
    "## Graph searches: iterative implementation"
   ]
  },
  {
   "cell_type": "markdown",
   "metadata": {},
   "source": [
    "- Implementation:\n",
    "  - Let's implement it non-recursively this time.\n",
    "  - Every time we visit a node, we add its neighbours to the queue.\n",
    "  - This ensures we'll visit the all the \"distance 1 neighbours\" before visiting any \"distance 2 neighbours\"."
   ]
  },
  {
   "cell_type": "code",
   "execution_count": null,
   "metadata": {},
   "outputs": [],
   "source": [
    "def connected_bfs(g, node1, node2, verbose=False):\n",
    "    \"\"\" \n",
    "    Given a NetworkX Graph g, and start node node1 \n",
    "    and goal node node2, tests whether node1 and node2\n",
    "    are connected in the graph g using breadth first search.\n",
    "    If they are not connected, returns False.\n",
    "\n",
    "    Parameters\n",
    "    ----------\n",
    "    g : networkx.classes.graph.Graph\n",
    "        the graph\n",
    "    node1 : str, int\n",
    "        first node\n",
    "    node2 : str, int\n",
    "        second node\n",
    "    verbose : bool\n",
    "        if True, node location will be displayed while False will not\n",
    "        (default is False)\n",
    "    \n",
    "    Returns\n",
    "    -------\n",
    "    bool \n",
    "        True if the two nodes are connected and False otherwise     \n",
    "\n",
    "    Example\n",
    "    --------\n",
    "    >>> graph = nx.erdos_renyi_graph(2, 1)\n",
    "    >>> connected_bfs(graph, 1, 0)\n",
    "    True\n",
    "    \"\"\"\n",
    "    \n",
    "    q = Queue()\n",
    "    q.push(node1)\n",
    "\n",
    "    visited = {node1}\n",
    "\n",
    "    while not q.isEmpty():\n",
    "        v = q.pop()\n",
    "        \n",
    "        if verbose:\n",
    "            print(\"At node\", v)\n",
    "            \n",
    "        if v == node2:\n",
    "            return True\n",
    "\n",
    "        for v in g.neighbors(v):\n",
    "            if v in visited:\n",
    "                continue\n",
    "#             if v not in visited:\n",
    "            visited.add(v)\n",
    "            q.push(v)\n",
    "\n",
    "    return False"
   ]
  },
  {
   "cell_type": "code",
   "execution_count": null,
   "metadata": {},
   "outputs": [],
   "source": [
    "connected_bfs(erg, 0, 14)"
   ]
  },
  {
   "cell_type": "code",
   "execution_count": null,
   "metadata": {},
   "outputs": [],
   "source": [
    "connected_bfs(erg, 0, 14, verbose=True)"
   ]
  },
  {
   "cell_type": "code",
   "execution_count": null,
   "metadata": {},
   "outputs": [],
   "source": [
    "nx.draw(erg, **draw_params, pos=nx.spring_layout(erg, seed=5))"
   ]
  },
  {
   "cell_type": "markdown",
   "metadata": {},
   "source": [
    "- The beauty is that to turn this into DFS, we only need to change the `Queue` to a `Stack`.\n",
    "  - Though the neighbours will be traversed in reverse order, so it's not exactly the same as our recursive DFS. We'll consider this optional.\n",
    "- BFS can be used to determine the \"distance\" between nodes, by keeping track of the \"neighbour depth\".\n",
    "- Here it is in `networkx`:"
   ]
  },
  {
   "cell_type": "code",
   "execution_count": null,
   "metadata": {},
   "outputs": [],
   "source": [
    "nx.shortest_path_length(erg, 0, 14)"
   ]
  },
  {
   "cell_type": "markdown",
   "metadata": {},
   "source": [
    "- This means it takes $2$ hops to get from node $0$ to node $14$."
   ]
  },
  {
   "cell_type": "code",
   "execution_count": 88,
   "metadata": {},
   "outputs": [
    {
     "name": "stdout",
     "output_type": "stream",
     "text": [
      "[NbConvertApp] Converting notebook _05-py-graphs.ipynb to html\n",
      "[NbConvertApp] Writing 801725 bytes to 05-py-graphs.html\n"
     ]
    }
   ],
   "source": [
    "!jupyter nbconvert _05-py-graphs.ipynb --to html --template classic --output 05-py-graphs.html"
   ]
  },
  {
   "cell_type": "markdown",
   "metadata": {},
   "source": [
    "# <center>Thank you!<a class=\"tocSkip\"></center>"
   ]
  }
 ],
 "metadata": {
  "kernelspec": {
   "display_name": "Python 3 (ipykernel)",
   "language": "python",
   "name": "python3"
  },
  "language_info": {
   "codemirror_mode": {
    "name": "ipython",
    "version": 3
   },
   "file_extension": ".py",
   "mimetype": "text/x-python",
   "name": "python",
   "nbconvert_exporter": "python",
   "pygments_lexer": "ipython3",
   "version": "3.12.2"
  },
  "toc": {
   "base_numbering": 1,
   "nav_menu": {},
   "number_sections": true,
   "sideBar": false,
   "skip_h1_title": false,
   "title_cell": "Table of Contents",
   "title_sidebar": "Contents",
   "toc_cell": false,
   "toc_position": {},
   "toc_section_display": true,
   "toc_window_display": false
  },
  "varInspector": {
   "cols": {
    "lenName": 16,
    "lenType": 16,
    "lenVar": 40
   },
   "kernels_config": {
    "python": {
     "delete_cmd_postfix": "",
     "delete_cmd_prefix": "del ",
     "library": "var_list.py",
     "varRefreshCmd": "print(var_dic_list())"
    },
    "r": {
     "delete_cmd_postfix": ") ",
     "delete_cmd_prefix": "rm(",
     "library": "var_list.r",
     "varRefreshCmd": "cat(var_dic_list()) "
    }
   },
   "types_to_exclude": [
    "module",
    "function",
    "builtin_function_or_method",
    "instance",
    "_Feature"
   ],
   "window_display": false
  }
 },
 "nbformat": 4,
 "nbformat_minor": 4
}
